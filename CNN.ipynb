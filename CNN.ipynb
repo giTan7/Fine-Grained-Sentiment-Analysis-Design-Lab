{
  "nbformat": 4,
  "nbformat_minor": 0,
  "metadata": {
    "colab": {
      "name": "final-assessment.ipynb",
      "provenance": [],
      "collapsed_sections": [],
      "include_colab_link": true
    },
    "kernelspec": {
      "name": "python3",
      "display_name": "Python 3"
    },
    "language_info": {
      "name": "python"
    }
  },
  "cells": [
    {
      "cell_type": "markdown",
      "metadata": {
        "id": "view-in-github",
        "colab_type": "text"
      },
      "source": [
        "<a href=\"https://colab.research.google.com/github/giTan7/NetajiSubhashEngineeringCollege-DesignLab2021-FinalAssignment/blob/main/final_assessment.ipynb\" target=\"_parent\"><img src=\"https://colab.research.google.com/assets/colab-badge.svg\" alt=\"Open In Colab\"/></a>"
      ]
    },
    {
      "cell_type": "code",
      "metadata": {
        "id": "Gev4007Whqb_"
      },
      "source": [
        "import numpy as np\n",
        "import pandas as pd\n",
        "import matplotlib.pyplot as plt\n",
        "import seaborn as sns\n",
        "\n",
        "import re\n",
        "import nltk\n",
        "from nltk.corpus import stopwords\n",
        "\n",
        "import datetime\n",
        "\n",
        "from sklearn.model_selection import train_test_split\n",
        "from sklearn.feature_extraction.text import TfidfVectorizer\n",
        "from sklearn import metrics\n",
        "from sklearn.metrics import accuracy_score, classification_report\n",
        "from sklearn.tree import DecisionTreeClassifier\n",
        "from sklearn.naive_bayes import MultinomialNB\n",
        "from sklearn.ensemble import RandomForestClassifier\n",
        "from sklearn.neighbors import KNeighborsClassifier\n",
        "from sklearn.linear_model import LogisticRegression\n",
        "\n",
        "from keras.preprocessing.sequence import pad_sequences\n",
        "from keras.models import Model\n",
        "from keras.preprocessing.text import Tokenizer\n",
        "from keras.layers import Dense, Dropout, Reshape, Flatten, concatenate, Input, Conv1D, GlobalMaxPooling1D, Embedding"
      ],
      "execution_count": 90,
      "outputs": []
    },
    {
      "cell_type": "code",
      "metadata": {
        "colab": {
          "resources": {
            "http://localhost:8080/nbextensions/google.colab/files.js": {
              "data": "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",
              "ok": true,
              "headers": [
                [
                  "content-type",
                  "application/javascript"
                ]
              ],
              "status": 200,
              "status_text": ""
            }
          },
          "base_uri": "https://localhost:8080/",
          "height": 72
        },
        "id": "L7p4mYTQht7I",
        "outputId": "747db883-f838-44d9-fc71-5d886dd8116c"
      },
      "source": [
        "#load the data\n",
        "from google.colab import files\n",
        "uploaded=files.upload()"
      ],
      "execution_count": 3,
      "outputs": [
        {
          "output_type": "display_data",
          "data": {
            "text/html": [
              "\n",
              "     <input type=\"file\" id=\"files-28389d13-f240-4b2d-9c9b-bdebd341bac2\" name=\"files[]\" multiple disabled\n",
              "        style=\"border:none\" />\n",
              "     <output id=\"result-28389d13-f240-4b2d-9c9b-bdebd341bac2\">\n",
              "      Upload widget is only available when the cell has been executed in the\n",
              "      current browser session. Please rerun this cell to enable.\n",
              "      </output>\n",
              "      <script src=\"/nbextensions/google.colab/files.js\"></script> "
            ],
            "text/plain": [
              "<IPython.core.display.HTML object>"
            ]
          },
          "metadata": {
            "tags": []
          }
        },
        {
          "output_type": "stream",
          "text": [
            "Saving data.csv to data.csv\n"
          ],
          "name": "stdout"
        }
      ]
    },
    {
      "cell_type": "code",
      "metadata": {
        "id": "Bkw6B5iEhxyp"
      },
      "source": [
        "#get the data\n",
        "data = pd.read_csv('data.csv')"
      ],
      "execution_count": 6,
      "outputs": []
    },
    {
      "cell_type": "code",
      "metadata": {
        "colab": {
          "base_uri": "https://localhost:8080/",
          "height": 204
        },
        "id": "_U1ggOzqh7oo",
        "outputId": "ea9cfabf-d7e8-4443-9fcb-edbedb33409a"
      },
      "source": [
        "data.head()"
      ],
      "execution_count": 7,
      "outputs": [
        {
          "output_type": "execute_result",
          "data": {
            "text/html": [
              "<div>\n",
              "<style scoped>\n",
              "    .dataframe tbody tr th:only-of-type {\n",
              "        vertical-align: middle;\n",
              "    }\n",
              "\n",
              "    .dataframe tbody tr th {\n",
              "        vertical-align: top;\n",
              "    }\n",
              "\n",
              "    .dataframe thead th {\n",
              "        text-align: right;\n",
              "    }\n",
              "</style>\n",
              "<table border=\"1\" class=\"dataframe\">\n",
              "  <thead>\n",
              "    <tr style=\"text-align: right;\">\n",
              "      <th></th>\n",
              "      <th>source</th>\n",
              "      <th>Rating</th>\n",
              "      <th>ReviewText</th>\n",
              "      <th>PUBLISH_TS</th>\n",
              "      <th>organisation</th>\n",
              "    </tr>\n",
              "  </thead>\n",
              "  <tbody>\n",
              "    <tr>\n",
              "      <th>0</th>\n",
              "      <td>google</td>\n",
              "      <td>3 stars</td>\n",
              "      <td>NaN</td>\n",
              "      <td>2020-01-18 15:03:56.791524</td>\n",
              "      <td>ibis saint martin</td>\n",
              "    </tr>\n",
              "    <tr>\n",
              "      <th>1</th>\n",
              "      <td>google</td>\n",
              "      <td>5 stars</td>\n",
              "      <td>Good hotel, not close to the sites of interest...</td>\n",
              "      <td>2020-01-18 15:03:56.791590</td>\n",
              "      <td>ibis saint martin</td>\n",
              "    </tr>\n",
              "    <tr>\n",
              "      <th>2</th>\n",
              "      <td>google</td>\n",
              "      <td>5 stars</td>\n",
              "      <td>Nice budget hotel for your stay in Paris..</td>\n",
              "      <td>2020-09-19 15:03:56.791618</td>\n",
              "      <td>ibis saint martin</td>\n",
              "    </tr>\n",
              "    <tr>\n",
              "      <th>3</th>\n",
              "      <td>google</td>\n",
              "      <td>5 stars</td>\n",
              "      <td>I was in Paris from 8 to 13 August at this fac...</td>\n",
              "      <td>2019-01-18 15:03:56.791656</td>\n",
              "      <td>ibis saint martin</td>\n",
              "    </tr>\n",
              "    <tr>\n",
              "      <th>4</th>\n",
              "      <td>google</td>\n",
              "      <td>1 stars</td>\n",
              "      <td>I stayed there for 3 nights. Besides the poor ...</td>\n",
              "      <td>2020-08-20 15:03:56.791677</td>\n",
              "      <td>ibis saint martin</td>\n",
              "    </tr>\n",
              "  </tbody>\n",
              "</table>\n",
              "</div>"
            ],
            "text/plain": [
              "   source   Rating  ...                  PUBLISH_TS       organisation\n",
              "0  google  3 stars  ...  2020-01-18 15:03:56.791524  ibis saint martin\n",
              "1  google  5 stars  ...  2020-01-18 15:03:56.791590  ibis saint martin\n",
              "2  google  5 stars  ...  2020-09-19 15:03:56.791618  ibis saint martin\n",
              "3  google  5 stars  ...  2019-01-18 15:03:56.791656  ibis saint martin\n",
              "4  google  1 stars  ...  2020-08-20 15:03:56.791677  ibis saint martin\n",
              "\n",
              "[5 rows x 5 columns]"
            ]
          },
          "metadata": {
            "tags": []
          },
          "execution_count": 7
        }
      ]
    },
    {
      "cell_type": "code",
      "metadata": {
        "colab": {
          "base_uri": "https://localhost:8080/"
        },
        "id": "AU1VYDAHh7gr",
        "outputId": "104ea670-cb6d-4b80-8d79-3800ad26dc3c"
      },
      "source": [
        "data.info()"
      ],
      "execution_count": 8,
      "outputs": [
        {
          "output_type": "stream",
          "text": [
            "<class 'pandas.core.frame.DataFrame'>\n",
            "RangeIndex: 2322 entries, 0 to 2321\n",
            "Data columns (total 5 columns):\n",
            " #   Column        Non-Null Count  Dtype \n",
            "---  ------        --------------  ----- \n",
            " 0   source        2322 non-null   object\n",
            " 1   Rating        2170 non-null   object\n",
            " 2   ReviewText    1622 non-null   object\n",
            " 3   PUBLISH_TS    2322 non-null   object\n",
            " 4   organisation  2322 non-null   object\n",
            "dtypes: object(5)\n",
            "memory usage: 90.8+ KB\n"
          ],
          "name": "stdout"
        }
      ]
    },
    {
      "cell_type": "code",
      "metadata": {
        "colab": {
          "base_uri": "https://localhost:8080/"
        },
        "id": "GonZtfWeh7Oz",
        "outputId": "f4f4fabd-e28c-429e-9682-94d5ae260263"
      },
      "source": [
        "data.shape"
      ],
      "execution_count": 9,
      "outputs": [
        {
          "output_type": "execute_result",
          "data": {
            "text/plain": [
              "(2322, 5)"
            ]
          },
          "metadata": {
            "tags": []
          },
          "execution_count": 9
        }
      ]
    },
    {
      "cell_type": "code",
      "metadata": {
        "colab": {
          "base_uri": "https://localhost:8080/"
        },
        "id": "gizebpSWiuE8",
        "outputId": "eb365739-8a94-451f-fe0d-4cdb6d2a0770"
      },
      "source": [
        "data.isnull().sum(axis = 0)"
      ],
      "execution_count": 10,
      "outputs": [
        {
          "output_type": "execute_result",
          "data": {
            "text/plain": [
              "source            0\n",
              "Rating          152\n",
              "ReviewText      700\n",
              "PUBLISH_TS        0\n",
              "organisation      0\n",
              "dtype: int64"
            ]
          },
          "metadata": {
            "tags": []
          },
          "execution_count": 10
        }
      ]
    },
    {
      "cell_type": "code",
      "metadata": {
        "id": "Wac9VNX5i-Sy"
      },
      "source": [
        "data.dropna(inplace=True)"
      ],
      "execution_count": 11,
      "outputs": []
    },
    {
      "cell_type": "code",
      "metadata": {
        "colab": {
          "base_uri": "https://localhost:8080/"
        },
        "id": "6Jtxkz24ixG2",
        "outputId": "ac9d9cad-60dd-4500-f938-45436e6346c1"
      },
      "source": [
        "data.Rating.value_counts()"
      ],
      "execution_count": 12,
      "outputs": [
        {
          "output_type": "execute_result",
          "data": {
            "text/plain": [
              "4 stars    551\n",
              "3 stars    359\n",
              "5 stars    340\n",
              "2 stars    128\n",
              "1 stars     92\n",
              "Name: Rating, dtype: int64"
            ]
          },
          "metadata": {
            "tags": []
          },
          "execution_count": 12
        }
      ]
    },
    {
      "cell_type": "code",
      "metadata": {
        "colab": {
          "base_uri": "https://localhost:8080/"
        },
        "id": "PubMq1y_i1nK",
        "outputId": "f0a088ff-cabe-490f-a31b-0e44c86fbaf2"
      },
      "source": [
        "data.shape"
      ],
      "execution_count": 13,
      "outputs": [
        {
          "output_type": "execute_result",
          "data": {
            "text/plain": [
              "(1470, 5)"
            ]
          },
          "metadata": {
            "tags": []
          },
          "execution_count": 13
        }
      ]
    },
    {
      "cell_type": "code",
      "metadata": {
        "colab": {
          "base_uri": "https://localhost:8080/",
          "height": 204
        },
        "id": "XyB2IV7VjHYu",
        "outputId": "d74de191-4e1f-4cd0-cf1e-99bcc31f0522"
      },
      "source": [
        "mod_data = data.iloc[:,1:3]\n",
        "\n",
        "mod_data.head()"
      ],
      "execution_count": 14,
      "outputs": [
        {
          "output_type": "execute_result",
          "data": {
            "text/html": [
              "<div>\n",
              "<style scoped>\n",
              "    .dataframe tbody tr th:only-of-type {\n",
              "        vertical-align: middle;\n",
              "    }\n",
              "\n",
              "    .dataframe tbody tr th {\n",
              "        vertical-align: top;\n",
              "    }\n",
              "\n",
              "    .dataframe thead th {\n",
              "        text-align: right;\n",
              "    }\n",
              "</style>\n",
              "<table border=\"1\" class=\"dataframe\">\n",
              "  <thead>\n",
              "    <tr style=\"text-align: right;\">\n",
              "      <th></th>\n",
              "      <th>Rating</th>\n",
              "      <th>ReviewText</th>\n",
              "    </tr>\n",
              "  </thead>\n",
              "  <tbody>\n",
              "    <tr>\n",
              "      <th>1</th>\n",
              "      <td>5 stars</td>\n",
              "      <td>Good hotel, not close to the sites of interest...</td>\n",
              "    </tr>\n",
              "    <tr>\n",
              "      <th>2</th>\n",
              "      <td>5 stars</td>\n",
              "      <td>Nice budget hotel for your stay in Paris..</td>\n",
              "    </tr>\n",
              "    <tr>\n",
              "      <th>3</th>\n",
              "      <td>5 stars</td>\n",
              "      <td>I was in Paris from 8 to 13 August at this fac...</td>\n",
              "    </tr>\n",
              "    <tr>\n",
              "      <th>4</th>\n",
              "      <td>1 stars</td>\n",
              "      <td>I stayed there for 3 nights. Besides the poor ...</td>\n",
              "    </tr>\n",
              "    <tr>\n",
              "      <th>5</th>\n",
              "      <td>1 stars</td>\n",
              "      <td>Attention half mouth. Very expensive room. Tin...</td>\n",
              "    </tr>\n",
              "  </tbody>\n",
              "</table>\n",
              "</div>"
            ],
            "text/plain": [
              "    Rating                                         ReviewText\n",
              "1  5 stars  Good hotel, not close to the sites of interest...\n",
              "2  5 stars         Nice budget hotel for your stay in Paris..\n",
              "3  5 stars  I was in Paris from 8 to 13 August at this fac...\n",
              "4  1 stars  I stayed there for 3 nights. Besides the poor ...\n",
              "5  1 stars  Attention half mouth. Very expensive room. Tin..."
            ]
          },
          "metadata": {
            "tags": []
          },
          "execution_count": 14
        }
      ]
    },
    {
      "cell_type": "code",
      "metadata": {
        "colab": {
          "base_uri": "https://localhost:8080/"
        },
        "id": "OnflBPOEjKDA",
        "outputId": "b0746ddc-6c68-4809-f47a-79a8eb10e623"
      },
      "source": [
        "# Remove Units from Value List\n",
        "mod_data['Rating'] = mod_data['Rating'].map(lambda x: str(x)[:1:])"
      ],
      "execution_count": 15,
      "outputs": [
        {
          "output_type": "stream",
          "text": [
            "/usr/local/lib/python3.7/dist-packages/ipykernel_launcher.py:2: SettingWithCopyWarning: \n",
            "A value is trying to be set on a copy of a slice from a DataFrame.\n",
            "Try using .loc[row_indexer,col_indexer] = value instead\n",
            "\n",
            "See the caveats in the documentation: https://pandas.pydata.org/pandas-docs/stable/user_guide/indexing.html#returning-a-view-versus-a-copy\n",
            "  \n"
          ],
          "name": "stderr"
        }
      ]
    },
    {
      "cell_type": "code",
      "metadata": {
        "colab": {
          "base_uri": "https://localhost:8080/"
        },
        "id": "p14UND_zjOXB",
        "outputId": "97a23bf0-e677-48c2-e26e-fded400d3219"
      },
      "source": [
        "print(mod_data)"
      ],
      "execution_count": 16,
      "outputs": [
        {
          "output_type": "stream",
          "text": [
            "     Rating                                         ReviewText\n",
            "1         5  Good hotel, not close to the sites of interest...\n",
            "2         5         Nice budget hotel for your stay in Paris..\n",
            "3         5  I was in Paris from 8 to 13 August at this fac...\n",
            "4         1  I stayed there for 3 nights. Besides the poor ...\n",
            "5         1  Attention half mouth. Very expensive room. Tin...\n",
            "...     ...                                                ...\n",
            "2317      4  We stayed for 4 nights, its a nice hotel, very...\n",
            "2318      1  We were robbed $300 at this hotel and staff de...\n",
            "2319      3  We chose this hotel for the comparatively reas...\n",
            "2320      3  We travel often between France and England, an...\n",
            "2321      1  Me and my girlfriend stayed at the hotel from ...\n",
            "\n",
            "[1470 rows x 2 columns]\n"
          ],
          "name": "stdout"
        }
      ]
    },
    {
      "cell_type": "code",
      "metadata": {
        "colab": {
          "base_uri": "https://localhost:8080/"
        },
        "id": "HdHspyjTjPZ6",
        "outputId": "2ba15c4a-804c-45b9-f138-8bb25c8aa978"
      },
      "source": [
        "# create the label\n",
        "mod_data[\"Label\"] = mod_data[\"Rating\"].apply(lambda x: 3 if x < str(3)\n",
        "                                             else (6 if x < str(5) else 8))"
      ],
      "execution_count": 17,
      "outputs": [
        {
          "output_type": "stream",
          "text": [
            "/usr/local/lib/python3.7/dist-packages/ipykernel_launcher.py:2: SettingWithCopyWarning: \n",
            "A value is trying to be set on a copy of a slice from a DataFrame.\n",
            "Try using .loc[row_indexer,col_indexer] = value instead\n",
            "\n",
            "See the caveats in the documentation: https://pandas.pydata.org/pandas-docs/stable/user_guide/indexing.html#returning-a-view-versus-a-copy\n",
            "  \n"
          ],
          "name": "stderr"
        }
      ]
    },
    {
      "cell_type": "code",
      "metadata": {
        "colab": {
          "base_uri": "https://localhost:8080/"
        },
        "id": "XMdR4egmjPib",
        "outputId": "4659da5d-d978-46cc-fc39-7848e581f3d0"
      },
      "source": [
        "print(mod_data)\n",
        "df = mod_data.iloc[:,1:3]"
      ],
      "execution_count": 18,
      "outputs": [
        {
          "output_type": "stream",
          "text": [
            "     Rating                                         ReviewText  Label\n",
            "1         5  Good hotel, not close to the sites of interest...      8\n",
            "2         5         Nice budget hotel for your stay in Paris..      8\n",
            "3         5  I was in Paris from 8 to 13 August at this fac...      8\n",
            "4         1  I stayed there for 3 nights. Besides the poor ...      3\n",
            "5         1  Attention half mouth. Very expensive room. Tin...      3\n",
            "...     ...                                                ...    ...\n",
            "2317      4  We stayed for 4 nights, its a nice hotel, very...      6\n",
            "2318      1  We were robbed $300 at this hotel and staff de...      3\n",
            "2319      3  We chose this hotel for the comparatively reas...      6\n",
            "2320      3  We travel often between France and England, an...      6\n",
            "2321      1  Me and my girlfriend stayed at the hotel from ...      3\n",
            "\n",
            "[1470 rows x 3 columns]\n"
          ],
          "name": "stdout"
        }
      ]
    },
    {
      "cell_type": "code",
      "metadata": {
        "colab": {
          "base_uri": "https://localhost:8080/"
        },
        "id": "kdC2wTsDp32Y",
        "outputId": "c1d41587-9b41-470a-9a94-6cec2a290ca8"
      },
      "source": [
        "print(mod_data.ReviewText)"
      ],
      "execution_count": 19,
      "outputs": [
        {
          "output_type": "stream",
          "text": [
            "1       Good hotel, not close to the sites of interest...\n",
            "2              Nice budget hotel for your stay in Paris..\n",
            "3       I was in Paris from 8 to 13 August at this fac...\n",
            "4       I stayed there for 3 nights. Besides the poor ...\n",
            "5       Attention half mouth. Very expensive room. Tin...\n",
            "                              ...                        \n",
            "2317    We stayed for 4 nights, its a nice hotel, very...\n",
            "2318    We were robbed $300 at this hotel and staff de...\n",
            "2319    We chose this hotel for the comparatively reas...\n",
            "2320    We travel often between France and England, an...\n",
            "2321    Me and my girlfriend stayed at the hotel from ...\n",
            "Name: ReviewText, Length: 1470, dtype: object\n"
          ],
          "name": "stdout"
        }
      ]
    },
    {
      "cell_type": "code",
      "metadata": {
        "colab": {
          "base_uri": "https://localhost:8080/"
        },
        "id": "q8z0c2G8rL3J",
        "outputId": "357f6891-e969-42d6-a9f3-749f7acc9380"
      },
      "source": [
        "type(mod_data.ReviewText)\n",
        "dummy_df = mod_data\n",
        "print(dummy_df.ReviewText[1])"
      ],
      "execution_count": 20,
      "outputs": [
        {
          "output_type": "stream",
          "text": [
            "Good hotel, not close to the sites of interest, but it is very easy to move in the subway, for a nearby station, good price.\n"
          ],
          "name": "stdout"
        }
      ]
    },
    {
      "cell_type": "code",
      "metadata": {
        "id": "6aeVZBMut-qo"
      },
      "source": [
        "# dummy_df = dummy_df.astype({\"ReviewText\":'String'})"
      ],
      "execution_count": 21,
      "outputs": []
    },
    {
      "cell_type": "code",
      "metadata": {
        "id": "uwPYoVtPt-tM"
      },
      "source": [
        ""
      ],
      "execution_count": 21,
      "outputs": []
    },
    {
      "cell_type": "code",
      "metadata": {
        "colab": {
          "base_uri": "https://localhost:8080/"
        },
        "id": "y6FY-NxQqX2Y",
        "outputId": "148b2e9b-4c9a-4496-b75b-0320a87f8919"
      },
      "source": [
        "nltk.download('punkt')"
      ],
      "execution_count": 22,
      "outputs": [
        {
          "output_type": "stream",
          "text": [
            "[nltk_data] Downloading package punkt to /root/nltk_data...\n",
            "[nltk_data]   Unzipping tokenizers/punkt.zip.\n"
          ],
          "name": "stdout"
        },
        {
          "output_type": "execute_result",
          "data": {
            "text/plain": [
              "True"
            ]
          },
          "metadata": {
            "tags": []
          },
          "execution_count": 22
        }
      ]
    },
    {
      "cell_type": "code",
      "metadata": {
        "id": "2Z-ftHGxjPnC",
        "colab": {
          "base_uri": "https://localhost:8080/"
        },
        "outputId": "783ad11f-6191-41d5-cb88-32fad20db5e0"
      },
      "source": [
        "   from nltk.tokenize import word_tokenize\n",
        "\n",
        "# for row in range(0,len(dummy_df.index)):\n",
        "#   tokens = word_tokenize(str(dummy_df.ReviewText[:row]))\n",
        "#   dummy_df.ReviewText[row] = tokens\n",
        "\n",
        "# def createTokens(dataset):\n",
        "#   for row in range(1,1470):\n",
        "#   #  print(row)\n",
        "#     tokens = word_tokenize(str(dataset.ReviewText[row]))\n",
        "#     dataset.ReviewText[row] = tokens\n",
        "#     print(tokens)\n",
        "\n",
        "dummy_df['tokenized_sents'] = dummy_df.apply(lambda row: word_tokenize(row['ReviewText']), axis=1)"
      ],
      "execution_count": 23,
      "outputs": [
        {
          "output_type": "stream",
          "text": [
            "/usr/local/lib/python3.7/dist-packages/ipykernel_launcher.py:14: SettingWithCopyWarning: \n",
            "A value is trying to be set on a copy of a slice from a DataFrame.\n",
            "Try using .loc[row_indexer,col_indexer] = value instead\n",
            "\n",
            "See the caveats in the documentation: https://pandas.pydata.org/pandas-docs/stable/user_guide/indexing.html#returning-a-view-versus-a-copy\n",
            "  \n"
          ],
          "name": "stderr"
        }
      ]
    },
    {
      "cell_type": "code",
      "metadata": {
        "colab": {
          "base_uri": "https://localhost:8080/",
          "height": 359
        },
        "id": "UKmrIIUTwhUA",
        "outputId": "c4784a0d-6d6b-497b-956f-4262fbfa04be"
      },
      "source": [
        "dummy_df.head(10)"
      ],
      "execution_count": 24,
      "outputs": [
        {
          "output_type": "execute_result",
          "data": {
            "text/html": [
              "<div>\n",
              "<style scoped>\n",
              "    .dataframe tbody tr th:only-of-type {\n",
              "        vertical-align: middle;\n",
              "    }\n",
              "\n",
              "    .dataframe tbody tr th {\n",
              "        vertical-align: top;\n",
              "    }\n",
              "\n",
              "    .dataframe thead th {\n",
              "        text-align: right;\n",
              "    }\n",
              "</style>\n",
              "<table border=\"1\" class=\"dataframe\">\n",
              "  <thead>\n",
              "    <tr style=\"text-align: right;\">\n",
              "      <th></th>\n",
              "      <th>Rating</th>\n",
              "      <th>ReviewText</th>\n",
              "      <th>Label</th>\n",
              "      <th>tokenized_sents</th>\n",
              "    </tr>\n",
              "  </thead>\n",
              "  <tbody>\n",
              "    <tr>\n",
              "      <th>1</th>\n",
              "      <td>5</td>\n",
              "      <td>Good hotel, not close to the sites of interest...</td>\n",
              "      <td>8</td>\n",
              "      <td>[Good, hotel, ,, not, close, to, the, sites, o...</td>\n",
              "    </tr>\n",
              "    <tr>\n",
              "      <th>2</th>\n",
              "      <td>5</td>\n",
              "      <td>Nice budget hotel for your stay in Paris..</td>\n",
              "      <td>8</td>\n",
              "      <td>[Nice, budget, hotel, for, your, stay, in, Par...</td>\n",
              "    </tr>\n",
              "    <tr>\n",
              "      <th>3</th>\n",
              "      <td>5</td>\n",
              "      <td>I was in Paris from 8 to 13 August at this fac...</td>\n",
              "      <td>8</td>\n",
              "      <td>[I, was, in, Paris, from, 8, to, 13, August, a...</td>\n",
              "    </tr>\n",
              "    <tr>\n",
              "      <th>4</th>\n",
              "      <td>1</td>\n",
              "      <td>I stayed there for 3 nights. Besides the poor ...</td>\n",
              "      <td>3</td>\n",
              "      <td>[I, stayed, there, for, 3, nights, ., Besides,...</td>\n",
              "    </tr>\n",
              "    <tr>\n",
              "      <th>5</th>\n",
              "      <td>1</td>\n",
              "      <td>Attention half mouth. Very expensive room. Tin...</td>\n",
              "      <td>3</td>\n",
              "      <td>[Attention, half, mouth, ., Very, expensive, r...</td>\n",
              "    </tr>\n",
              "    <tr>\n",
              "      <th>7</th>\n",
              "      <td>4</td>\n",
              "      <td>Very clean,good breakfast,comfort room,many re...</td>\n",
              "      <td>6</td>\n",
              "      <td>[Very, clean, ,, good, breakfast, ,, comfort, ...</td>\n",
              "    </tr>\n",
              "    <tr>\n",
              "      <th>12</th>\n",
              "      <td>2</td>\n",
              "      <td>Very small rooms</td>\n",
              "      <td>3</td>\n",
              "      <td>[Very, small, rooms]</td>\n",
              "    </tr>\n",
              "    <tr>\n",
              "      <th>15</th>\n",
              "      <td>5</td>\n",
              "      <td>Small rooms but very clean and pretty</td>\n",
              "      <td>8</td>\n",
              "      <td>[Small, rooms, but, very, clean, and, pretty]</td>\n",
              "    </tr>\n",
              "    <tr>\n",
              "      <th>16</th>\n",
              "      <td>4</td>\n",
              "      <td>Good clean property but overlooks busy street....</td>\n",
              "      <td>6</td>\n",
              "      <td>[Good, clean, property, but, overlooks, busy, ...</td>\n",
              "    </tr>\n",
              "    <tr>\n",
              "      <th>19</th>\n",
              "      <td>4</td>\n",
              "      <td>Petit dej at the top!</td>\n",
              "      <td>6</td>\n",
              "      <td>[Petit, dej, at, the, top, !]</td>\n",
              "    </tr>\n",
              "  </tbody>\n",
              "</table>\n",
              "</div>"
            ],
            "text/plain": [
              "   Rating  ...                                    tokenized_sents\n",
              "1       5  ...  [Good, hotel, ,, not, close, to, the, sites, o...\n",
              "2       5  ...  [Nice, budget, hotel, for, your, stay, in, Par...\n",
              "3       5  ...  [I, was, in, Paris, from, 8, to, 13, August, a...\n",
              "4       1  ...  [I, stayed, there, for, 3, nights, ., Besides,...\n",
              "5       1  ...  [Attention, half, mouth, ., Very, expensive, r...\n",
              "7       4  ...  [Very, clean, ,, good, breakfast, ,, comfort, ...\n",
              "12      2  ...                               [Very, small, rooms]\n",
              "15      5  ...      [Small, rooms, but, very, clean, and, pretty]\n",
              "16      4  ...  [Good, clean, property, but, overlooks, busy, ...\n",
              "19      4  ...                      [Petit, dej, at, the, top, !]\n",
              "\n",
              "[10 rows x 4 columns]"
            ]
          },
          "metadata": {
            "tags": []
          },
          "execution_count": 24
        }
      ]
    },
    {
      "cell_type": "code",
      "metadata": {
        "colab": {
          "base_uri": "https://localhost:8080/"
        },
        "id": "8QkFOoSIwhZO",
        "outputId": "0ae36d37-5277-40a0-cd34-93f756594dbd"
      },
      "source": [
        "# Removing punctuations\n",
        "dummy_df.tokenized_sents.replace(\"[^a-zA-Z]\",\" \",regex=True, inplace=True)"
      ],
      "execution_count": 25,
      "outputs": [
        {
          "output_type": "stream",
          "text": [
            "/usr/local/lib/python3.7/dist-packages/pandas/core/series.py:4582: SettingWithCopyWarning: \n",
            "A value is trying to be set on a copy of a slice from a DataFrame\n",
            "\n",
            "See the caveats in the documentation: https://pandas.pydata.org/pandas-docs/stable/user_guide/indexing.html#returning-a-view-versus-a-copy\n",
            "  method=method,\n"
          ],
          "name": "stderr"
        }
      ]
    },
    {
      "cell_type": "code",
      "metadata": {
        "id": "50tTVp1JjsV-",
        "colab": {
          "base_uri": "https://localhost:8080/",
          "height": 359
        },
        "outputId": "6aebcebf-2eb8-44e8-95fd-a37462b53e6e"
      },
      "source": [
        "dummy_df.head(10)"
      ],
      "execution_count": 26,
      "outputs": [
        {
          "output_type": "execute_result",
          "data": {
            "text/html": [
              "<div>\n",
              "<style scoped>\n",
              "    .dataframe tbody tr th:only-of-type {\n",
              "        vertical-align: middle;\n",
              "    }\n",
              "\n",
              "    .dataframe tbody tr th {\n",
              "        vertical-align: top;\n",
              "    }\n",
              "\n",
              "    .dataframe thead th {\n",
              "        text-align: right;\n",
              "    }\n",
              "</style>\n",
              "<table border=\"1\" class=\"dataframe\">\n",
              "  <thead>\n",
              "    <tr style=\"text-align: right;\">\n",
              "      <th></th>\n",
              "      <th>Rating</th>\n",
              "      <th>ReviewText</th>\n",
              "      <th>Label</th>\n",
              "      <th>tokenized_sents</th>\n",
              "    </tr>\n",
              "  </thead>\n",
              "  <tbody>\n",
              "    <tr>\n",
              "      <th>1</th>\n",
              "      <td>5</td>\n",
              "      <td>Good hotel, not close to the sites of interest...</td>\n",
              "      <td>8</td>\n",
              "      <td>[Good, hotel, ,, not, close, to, the, sites, o...</td>\n",
              "    </tr>\n",
              "    <tr>\n",
              "      <th>2</th>\n",
              "      <td>5</td>\n",
              "      <td>Nice budget hotel for your stay in Paris..</td>\n",
              "      <td>8</td>\n",
              "      <td>[Nice, budget, hotel, for, your, stay, in, Par...</td>\n",
              "    </tr>\n",
              "    <tr>\n",
              "      <th>3</th>\n",
              "      <td>5</td>\n",
              "      <td>I was in Paris from 8 to 13 August at this fac...</td>\n",
              "      <td>8</td>\n",
              "      <td>[I, was, in, Paris, from, 8, to, 13, August, a...</td>\n",
              "    </tr>\n",
              "    <tr>\n",
              "      <th>4</th>\n",
              "      <td>1</td>\n",
              "      <td>I stayed there for 3 nights. Besides the poor ...</td>\n",
              "      <td>3</td>\n",
              "      <td>[I, stayed, there, for, 3, nights, ., Besides,...</td>\n",
              "    </tr>\n",
              "    <tr>\n",
              "      <th>5</th>\n",
              "      <td>1</td>\n",
              "      <td>Attention half mouth. Very expensive room. Tin...</td>\n",
              "      <td>3</td>\n",
              "      <td>[Attention, half, mouth, ., Very, expensive, r...</td>\n",
              "    </tr>\n",
              "    <tr>\n",
              "      <th>7</th>\n",
              "      <td>4</td>\n",
              "      <td>Very clean,good breakfast,comfort room,many re...</td>\n",
              "      <td>6</td>\n",
              "      <td>[Very, clean, ,, good, breakfast, ,, comfort, ...</td>\n",
              "    </tr>\n",
              "    <tr>\n",
              "      <th>12</th>\n",
              "      <td>2</td>\n",
              "      <td>Very small rooms</td>\n",
              "      <td>3</td>\n",
              "      <td>[Very, small, rooms]</td>\n",
              "    </tr>\n",
              "    <tr>\n",
              "      <th>15</th>\n",
              "      <td>5</td>\n",
              "      <td>Small rooms but very clean and pretty</td>\n",
              "      <td>8</td>\n",
              "      <td>[Small, rooms, but, very, clean, and, pretty]</td>\n",
              "    </tr>\n",
              "    <tr>\n",
              "      <th>16</th>\n",
              "      <td>4</td>\n",
              "      <td>Good clean property but overlooks busy street....</td>\n",
              "      <td>6</td>\n",
              "      <td>[Good, clean, property, but, overlooks, busy, ...</td>\n",
              "    </tr>\n",
              "    <tr>\n",
              "      <th>19</th>\n",
              "      <td>4</td>\n",
              "      <td>Petit dej at the top!</td>\n",
              "      <td>6</td>\n",
              "      <td>[Petit, dej, at, the, top, !]</td>\n",
              "    </tr>\n",
              "  </tbody>\n",
              "</table>\n",
              "</div>"
            ],
            "text/plain": [
              "   Rating  ...                                    tokenized_sents\n",
              "1       5  ...  [Good, hotel, ,, not, close, to, the, sites, o...\n",
              "2       5  ...  [Nice, budget, hotel, for, your, stay, in, Par...\n",
              "3       5  ...  [I, was, in, Paris, from, 8, to, 13, August, a...\n",
              "4       1  ...  [I, stayed, there, for, 3, nights, ., Besides,...\n",
              "5       1  ...  [Attention, half, mouth, ., Very, expensive, r...\n",
              "7       4  ...  [Very, clean, ,, good, breakfast, ,, comfort, ...\n",
              "12      2  ...                               [Very, small, rooms]\n",
              "15      5  ...      [Small, rooms, but, very, clean, and, pretty]\n",
              "16      4  ...  [Good, clean, property, but, overlooks, busy, ...\n",
              "19      4  ...                      [Petit, dej, at, the, top, !]\n",
              "\n",
              "[10 rows x 4 columns]"
            ]
          },
          "metadata": {
            "tags": []
          },
          "execution_count": 26
        }
      ]
    },
    {
      "cell_type": "code",
      "metadata": {
        "id": "lHO41nzrjsYZ"
      },
      "source": [
        ""
      ],
      "execution_count": 26,
      "outputs": []
    },
    {
      "cell_type": "markdown",
      "metadata": {
        "id": "Pn_EiVJd-jb5"
      },
      "source": [
        "**Further** **Work**"
      ]
    },
    {
      "cell_type": "code",
      "metadata": {
        "colab": {
          "base_uri": "https://localhost:8080/"
        },
        "id": "ol2f4Qrl-4lh",
        "outputId": "d92fab9c-8236-4e23-8269-da8435ea84c4"
      },
      "source": [
        "nltk.download('vader_lexicon')"
      ],
      "execution_count": 28,
      "outputs": [
        {
          "output_type": "stream",
          "text": [
            "[nltk_data] Downloading package vader_lexicon to /root/nltk_data...\n"
          ],
          "name": "stdout"
        },
        {
          "output_type": "execute_result",
          "data": {
            "text/plain": [
              "True"
            ]
          },
          "metadata": {
            "tags": []
          },
          "execution_count": 28
        }
      ]
    },
    {
      "cell_type": "code",
      "metadata": {
        "id": "OV5EuC2LjstI"
      },
      "source": [
        "from nltk.sentiment.vader import SentimentIntensityAnalyzer\n",
        "vader = SentimentIntensityAnalyzer()"
      ],
      "execution_count": 29,
      "outputs": []
    },
    {
      "cell_type": "code",
      "metadata": {
        "id": "4kmjfoHHjsvN",
        "colab": {
          "base_uri": "https://localhost:8080/"
        },
        "outputId": "170b7c9e-9c5e-455f-8022-ab3b4b9a3092"
      },
      "source": [
        "vader.polarity_scores(\"Good hotel, not close to the sites of interest, but it is very easy to move in the subway, for a nearby station, good price.\")"
      ],
      "execution_count": 30,
      "outputs": [
        {
          "output_type": "execute_result",
          "data": {
            "text/plain": [
              "{'compound': 0.902, 'neg': 0.0, 'neu': 0.623, 'pos': 0.377}"
            ]
          },
          "metadata": {
            "tags": []
          },
          "execution_count": 30
        }
      ]
    },
    {
      "cell_type": "code",
      "metadata": {
        "id": "SPSv6w8ZD2pq"
      },
      "source": [
        "dummy_df['output'] = dummy_df.apply(lambda row: vader.polarity_scores(row['ReviewText'])['compound'], axis=1)\n"
      ],
      "execution_count": 39,
      "outputs": []
    },
    {
      "cell_type": "code",
      "metadata": {
        "colab": {
          "base_uri": "https://localhost:8080/",
          "height": 359
        },
        "id": "tChHPMKnD2rw",
        "outputId": "b6c21318-993e-4ee1-e909-a0e9193444f4"
      },
      "source": [
        "dummy_df.head(10)"
      ],
      "execution_count": 40,
      "outputs": [
        {
          "output_type": "execute_result",
          "data": {
            "text/html": [
              "<div>\n",
              "<style scoped>\n",
              "    .dataframe tbody tr th:only-of-type {\n",
              "        vertical-align: middle;\n",
              "    }\n",
              "\n",
              "    .dataframe tbody tr th {\n",
              "        vertical-align: top;\n",
              "    }\n",
              "\n",
              "    .dataframe thead th {\n",
              "        text-align: right;\n",
              "    }\n",
              "</style>\n",
              "<table border=\"1\" class=\"dataframe\">\n",
              "  <thead>\n",
              "    <tr style=\"text-align: right;\">\n",
              "      <th></th>\n",
              "      <th>Rating</th>\n",
              "      <th>ReviewText</th>\n",
              "      <th>Label</th>\n",
              "      <th>tokenized_sents</th>\n",
              "      <th>output</th>\n",
              "    </tr>\n",
              "  </thead>\n",
              "  <tbody>\n",
              "    <tr>\n",
              "      <th>1</th>\n",
              "      <td>5</td>\n",
              "      <td>Good hotel, not close to the sites of interest...</td>\n",
              "      <td>8</td>\n",
              "      <td>[Good, hotel, ,, not, close, to, the, sites, o...</td>\n",
              "      <td>0.9020</td>\n",
              "    </tr>\n",
              "    <tr>\n",
              "      <th>2</th>\n",
              "      <td>5</td>\n",
              "      <td>Nice budget hotel for your stay in Paris..</td>\n",
              "      <td>8</td>\n",
              "      <td>[Nice, budget, hotel, for, your, stay, in, Par...</td>\n",
              "      <td>0.4215</td>\n",
              "    </tr>\n",
              "    <tr>\n",
              "      <th>3</th>\n",
              "      <td>5</td>\n",
              "      <td>I was in Paris from 8 to 13 August at this fac...</td>\n",
              "      <td>8</td>\n",
              "      <td>[I, was, in, Paris, from, 8, to, 13, August, a...</td>\n",
              "      <td>0.9900</td>\n",
              "    </tr>\n",
              "    <tr>\n",
              "      <th>4</th>\n",
              "      <td>1</td>\n",
              "      <td>I stayed there for 3 nights. Besides the poor ...</td>\n",
              "      <td>3</td>\n",
              "      <td>[I, stayed, there, for, 3, nights, ., Besides,...</td>\n",
              "      <td>-0.0054</td>\n",
              "    </tr>\n",
              "    <tr>\n",
              "      <th>5</th>\n",
              "      <td>1</td>\n",
              "      <td>Attention half mouth. Very expensive room. Tin...</td>\n",
              "      <td>3</td>\n",
              "      <td>[Attention, half, mouth, ., Very, expensive, r...</td>\n",
              "      <td>-0.2960</td>\n",
              "    </tr>\n",
              "    <tr>\n",
              "      <th>7</th>\n",
              "      <td>4</td>\n",
              "      <td>Very clean,good breakfast,comfort room,many re...</td>\n",
              "      <td>6</td>\n",
              "      <td>[Very, clean, ,, good, breakfast, ,, comfort, ...</td>\n",
              "      <td>0.4939</td>\n",
              "    </tr>\n",
              "    <tr>\n",
              "      <th>12</th>\n",
              "      <td>2</td>\n",
              "      <td>Very small rooms</td>\n",
              "      <td>3</td>\n",
              "      <td>[Very, small, rooms]</td>\n",
              "      <td>0.0000</td>\n",
              "    </tr>\n",
              "    <tr>\n",
              "      <th>15</th>\n",
              "      <td>5</td>\n",
              "      <td>Small rooms but very clean and pretty</td>\n",
              "      <td>8</td>\n",
              "      <td>[Small, rooms, but, very, clean, and, pretty]</td>\n",
              "      <td>0.8653</td>\n",
              "    </tr>\n",
              "    <tr>\n",
              "      <th>16</th>\n",
              "      <td>4</td>\n",
              "      <td>Good clean property but overlooks busy street....</td>\n",
              "      <td>6</td>\n",
              "      <td>[Good, clean, property, but, overlooks, busy, ...</td>\n",
              "      <td>0.9291</td>\n",
              "    </tr>\n",
              "    <tr>\n",
              "      <th>19</th>\n",
              "      <td>4</td>\n",
              "      <td>Petit dej at the top!</td>\n",
              "      <td>6</td>\n",
              "      <td>[Petit, dej, at, the, top, !]</td>\n",
              "      <td>0.2714</td>\n",
              "    </tr>\n",
              "  </tbody>\n",
              "</table>\n",
              "</div>"
            ],
            "text/plain": [
              "   Rating  ...  output\n",
              "1       5  ...  0.9020\n",
              "2       5  ...  0.4215\n",
              "3       5  ...  0.9900\n",
              "4       1  ... -0.0054\n",
              "5       1  ... -0.2960\n",
              "7       4  ...  0.4939\n",
              "12      2  ...  0.0000\n",
              "15      5  ...  0.8653\n",
              "16      4  ...  0.9291\n",
              "19      4  ...  0.2714\n",
              "\n",
              "[10 rows x 5 columns]"
            ]
          },
          "metadata": {
            "tags": []
          },
          "execution_count": 40
        }
      ]
    },
    {
      "cell_type": "code",
      "metadata": {
        "id": "Hx0NSBAnD2t6"
      },
      "source": [
        "# dummy_df['score'] = dummy_df['output'].apply(self.score)\n",
        "dummy_df['Labels'] = pd.cut(dummy_df['output'], bins=3, labels=[3,6,8])"
      ],
      "execution_count": 54,
      "outputs": []
    },
    {
      "cell_type": "code",
      "metadata": {
        "colab": {
          "base_uri": "https://localhost:8080/",
          "height": 669
        },
        "id": "h3A5fIawD2xO",
        "outputId": "609958d2-5bfd-4bce-d104-f70831bb24f8"
      },
      "source": [
        "dummy_df.head(20)"
      ],
      "execution_count": 56,
      "outputs": [
        {
          "output_type": "execute_result",
          "data": {
            "text/html": [
              "<div>\n",
              "<style scoped>\n",
              "    .dataframe tbody tr th:only-of-type {\n",
              "        vertical-align: middle;\n",
              "    }\n",
              "\n",
              "    .dataframe tbody tr th {\n",
              "        vertical-align: top;\n",
              "    }\n",
              "\n",
              "    .dataframe thead th {\n",
              "        text-align: right;\n",
              "    }\n",
              "</style>\n",
              "<table border=\"1\" class=\"dataframe\">\n",
              "  <thead>\n",
              "    <tr style=\"text-align: right;\">\n",
              "      <th></th>\n",
              "      <th>Rating</th>\n",
              "      <th>ReviewText</th>\n",
              "      <th>Label</th>\n",
              "      <th>tokenized_sents</th>\n",
              "      <th>output</th>\n",
              "      <th>pred</th>\n",
              "      <th>Labels</th>\n",
              "    </tr>\n",
              "  </thead>\n",
              "  <tbody>\n",
              "    <tr>\n",
              "      <th>1</th>\n",
              "      <td>5</td>\n",
              "      <td>Good hotel, not close to the sites of interest...</td>\n",
              "      <td>8</td>\n",
              "      <td>[Good, hotel, ,, not, close, to, the, sites, o...</td>\n",
              "      <td>0.9020</td>\n",
              "      <td>8</td>\n",
              "      <td>8</td>\n",
              "    </tr>\n",
              "    <tr>\n",
              "      <th>2</th>\n",
              "      <td>5</td>\n",
              "      <td>Nice budget hotel for your stay in Paris..</td>\n",
              "      <td>8</td>\n",
              "      <td>[Nice, budget, hotel, for, your, stay, in, Par...</td>\n",
              "      <td>0.4215</td>\n",
              "      <td>8</td>\n",
              "      <td>8</td>\n",
              "    </tr>\n",
              "    <tr>\n",
              "      <th>3</th>\n",
              "      <td>5</td>\n",
              "      <td>I was in Paris from 8 to 13 August at this fac...</td>\n",
              "      <td>8</td>\n",
              "      <td>[I, was, in, Paris, from, 8, to, 13, August, a...</td>\n",
              "      <td>0.9900</td>\n",
              "      <td>8</td>\n",
              "      <td>8</td>\n",
              "    </tr>\n",
              "    <tr>\n",
              "      <th>4</th>\n",
              "      <td>1</td>\n",
              "      <td>I stayed there for 3 nights. Besides the poor ...</td>\n",
              "      <td>3</td>\n",
              "      <td>[I, stayed, there, for, 3, nights, ., Besides,...</td>\n",
              "      <td>-0.0054</td>\n",
              "      <td>6</td>\n",
              "      <td>6</td>\n",
              "    </tr>\n",
              "    <tr>\n",
              "      <th>5</th>\n",
              "      <td>1</td>\n",
              "      <td>Attention half mouth. Very expensive room. Tin...</td>\n",
              "      <td>3</td>\n",
              "      <td>[Attention, half, mouth, ., Very, expensive, r...</td>\n",
              "      <td>-0.2960</td>\n",
              "      <td>6</td>\n",
              "      <td>6</td>\n",
              "    </tr>\n",
              "    <tr>\n",
              "      <th>7</th>\n",
              "      <td>4</td>\n",
              "      <td>Very clean,good breakfast,comfort room,many re...</td>\n",
              "      <td>6</td>\n",
              "      <td>[Very, clean, ,, good, breakfast, ,, comfort, ...</td>\n",
              "      <td>0.4939</td>\n",
              "      <td>8</td>\n",
              "      <td>8</td>\n",
              "    </tr>\n",
              "    <tr>\n",
              "      <th>12</th>\n",
              "      <td>2</td>\n",
              "      <td>Very small rooms</td>\n",
              "      <td>3</td>\n",
              "      <td>[Very, small, rooms]</td>\n",
              "      <td>0.0000</td>\n",
              "      <td>6</td>\n",
              "      <td>6</td>\n",
              "    </tr>\n",
              "    <tr>\n",
              "      <th>15</th>\n",
              "      <td>5</td>\n",
              "      <td>Small rooms but very clean and pretty</td>\n",
              "      <td>8</td>\n",
              "      <td>[Small, rooms, but, very, clean, and, pretty]</td>\n",
              "      <td>0.8653</td>\n",
              "      <td>8</td>\n",
              "      <td>8</td>\n",
              "    </tr>\n",
              "    <tr>\n",
              "      <th>16</th>\n",
              "      <td>4</td>\n",
              "      <td>Good clean property but overlooks busy street....</td>\n",
              "      <td>6</td>\n",
              "      <td>[Good, clean, property, but, overlooks, busy, ...</td>\n",
              "      <td>0.9291</td>\n",
              "      <td>8</td>\n",
              "      <td>8</td>\n",
              "    </tr>\n",
              "    <tr>\n",
              "      <th>19</th>\n",
              "      <td>4</td>\n",
              "      <td>Petit dej at the top!</td>\n",
              "      <td>6</td>\n",
              "      <td>[Petit, dej, at, the, top, !]</td>\n",
              "      <td>0.2714</td>\n",
              "      <td>6</td>\n",
              "      <td>6</td>\n",
              "    </tr>\n",
              "    <tr>\n",
              "      <th>22</th>\n",
              "      <td>5</td>\n",
              "      <td>I do not really know but I love it here</td>\n",
              "      <td>8</td>\n",
              "      <td>[I, do, not, really, know, but, I, love, it, h...</td>\n",
              "      <td>0.8018</td>\n",
              "      <td>8</td>\n",
              "      <td>8</td>\n",
              "    </tr>\n",
              "    <tr>\n",
              "      <th>23</th>\n",
              "      <td>1</td>\n",
              "      <td>Staff not attentive to customer requests! When...</td>\n",
              "      <td>3</td>\n",
              "      <td>[Staff, not, attentive, to, customer, requests...</td>\n",
              "      <td>0.5053</td>\n",
              "      <td>8</td>\n",
              "      <td>8</td>\n",
              "    </tr>\n",
              "    <tr>\n",
              "      <th>27</th>\n",
              "      <td>4</td>\n",
              "      <td>Clean hotel, good breakfast, very kind staff a...</td>\n",
              "      <td>6</td>\n",
              "      <td>[Clean, hotel, ,, good, breakfast, ,, very, ki...</td>\n",
              "      <td>0.9041</td>\n",
              "      <td>8</td>\n",
              "      <td>8</td>\n",
              "    </tr>\n",
              "    <tr>\n",
              "      <th>29</th>\n",
              "      <td>3</td>\n",
              "      <td>Hotel nice and clean. Service ok</td>\n",
              "      <td>6</td>\n",
              "      <td>[Hotel, nice, and, clean, ., Service, ok]</td>\n",
              "      <td>0.7717</td>\n",
              "      <td>8</td>\n",
              "      <td>8</td>\n",
              "    </tr>\n",
              "    <tr>\n",
              "      <th>32</th>\n",
              "      <td>4</td>\n",
              "      <td>The hotel itself is really nice if you want a ...</td>\n",
              "      <td>6</td>\n",
              "      <td>[The, hotel, itself, is, really, nice, if, you...</td>\n",
              "      <td>0.9911</td>\n",
              "      <td>8</td>\n",
              "      <td>8</td>\n",
              "    </tr>\n",
              "    <tr>\n",
              "      <th>36</th>\n",
              "      <td>5</td>\n",
              "      <td>Comfortable and calm</td>\n",
              "      <td>8</td>\n",
              "      <td>[Comfortable, and, calm]</td>\n",
              "      <td>0.6808</td>\n",
              "      <td>8</td>\n",
              "      <td>8</td>\n",
              "    </tr>\n",
              "    <tr>\n",
              "      <th>38</th>\n",
              "      <td>5</td>\n",
              "      <td>All you need for your stay in Paris. Good loca...</td>\n",
              "      <td>8</td>\n",
              "      <td>[All, you, need, for, your, stay, in, Paris, ....</td>\n",
              "      <td>0.8591</td>\n",
              "      <td>8</td>\n",
              "      <td>8</td>\n",
              "    </tr>\n",
              "    <tr>\n",
              "      <th>43</th>\n",
              "      <td>3</td>\n",
              "      <td>Small and expensive. But hey .. it's Paris ..</td>\n",
              "      <td>6</td>\n",
              "      <td>[Small, and, expensive, ., But, hey, .., it, '...</td>\n",
              "      <td>0.0000</td>\n",
              "      <td>6</td>\n",
              "      <td>6</td>\n",
              "    </tr>\n",
              "    <tr>\n",
              "      <th>44</th>\n",
              "      <td>5</td>\n",
              "      <td>Ibis classic. Perfect for sleeping comfortably...</td>\n",
              "      <td>8</td>\n",
              "      <td>[Ibis, classic, ., Perfect, for, sleeping, com...</td>\n",
              "      <td>0.7579</td>\n",
              "      <td>8</td>\n",
              "      <td>8</td>\n",
              "    </tr>\n",
              "    <tr>\n",
              "      <th>45</th>\n",
              "      <td>4</td>\n",
              "      <td>Nice hotel inside but does not look much on th...</td>\n",
              "      <td>6</td>\n",
              "      <td>[Nice, hotel, inside, but, does, not, look, mu...</td>\n",
              "      <td>0.7783</td>\n",
              "      <td>8</td>\n",
              "      <td>8</td>\n",
              "    </tr>\n",
              "  </tbody>\n",
              "</table>\n",
              "</div>"
            ],
            "text/plain": [
              "   Rating                                         ReviewText  ...  pred Labels\n",
              "1       5  Good hotel, not close to the sites of interest...  ...     8      8\n",
              "2       5         Nice budget hotel for your stay in Paris..  ...     8      8\n",
              "3       5  I was in Paris from 8 to 13 August at this fac...  ...     8      8\n",
              "4       1  I stayed there for 3 nights. Besides the poor ...  ...     6      6\n",
              "5       1  Attention half mouth. Very expensive room. Tin...  ...     6      6\n",
              "7       4  Very clean,good breakfast,comfort room,many re...  ...     8      8\n",
              "12      2                                   Very small rooms  ...     6      6\n",
              "15      5              Small rooms but very clean and pretty  ...     8      8\n",
              "16      4  Good clean property but overlooks busy street....  ...     8      8\n",
              "19      4                              Petit dej at the top!  ...     6      6\n",
              "22      5            I do not really know but I love it here  ...     8      8\n",
              "23      1  Staff not attentive to customer requests! When...  ...     8      8\n",
              "27      4  Clean hotel, good breakfast, very kind staff a...  ...     8      8\n",
              "29      3                   Hotel nice and clean. Service ok  ...     8      8\n",
              "32      4  The hotel itself is really nice if you want a ...  ...     8      8\n",
              "36      5                               Comfortable and calm  ...     8      8\n",
              "38      5  All you need for your stay in Paris. Good loca...  ...     8      8\n",
              "43      3      Small and expensive. But hey .. it's Paris ..  ...     6      6\n",
              "44      5  Ibis classic. Perfect for sleeping comfortably...  ...     8      8\n",
              "45      4  Nice hotel inside but does not look much on th...  ...     8      8\n",
              "\n",
              "[20 rows x 7 columns]"
            ]
          },
          "metadata": {
            "tags": []
          },
          "execution_count": 56
        }
      ]
    },
    {
      "cell_type": "code",
      "metadata": {
        "colab": {
          "base_uri": "https://localhost:8080/"
        },
        "id": "SudL8A-yD2zZ",
        "outputId": "4013082f-7477-424e-f60e-938d38ef6cb9"
      },
      "source": [
        "dummy_df.pred.value_counts() "
      ],
      "execution_count": 63,
      "outputs": [
        {
          "output_type": "execute_result",
          "data": {
            "text/plain": [
              "8    1109\n",
              "6     194\n",
              "3     167\n",
              "Name: pred, dtype: int64"
            ]
          },
          "metadata": {
            "tags": []
          },
          "execution_count": 63
        }
      ]
    },
    {
      "cell_type": "code",
      "metadata": {
        "id": "88NZEB61D21A"
      },
      "source": [
        "dummy_df.drop(['Rating','Label','output','pred'], axis = 1, inplace=True)"
      ],
      "execution_count": 64,
      "outputs": []
    },
    {
      "cell_type": "code",
      "metadata": {
        "colab": {
          "base_uri": "https://localhost:8080/",
          "height": 204
        },
        "id": "oSRIKoGoD223",
        "outputId": "85d543c0-bda7-42f2-a461-7b599cd4ecde"
      },
      "source": [
        "dummy_df.head()"
      ],
      "execution_count": 65,
      "outputs": [
        {
          "output_type": "execute_result",
          "data": {
            "text/html": [
              "<div>\n",
              "<style scoped>\n",
              "    .dataframe tbody tr th:only-of-type {\n",
              "        vertical-align: middle;\n",
              "    }\n",
              "\n",
              "    .dataframe tbody tr th {\n",
              "        vertical-align: top;\n",
              "    }\n",
              "\n",
              "    .dataframe thead th {\n",
              "        text-align: right;\n",
              "    }\n",
              "</style>\n",
              "<table border=\"1\" class=\"dataframe\">\n",
              "  <thead>\n",
              "    <tr style=\"text-align: right;\">\n",
              "      <th></th>\n",
              "      <th>ReviewText</th>\n",
              "      <th>tokenized_sents</th>\n",
              "      <th>Labels</th>\n",
              "    </tr>\n",
              "  </thead>\n",
              "  <tbody>\n",
              "    <tr>\n",
              "      <th>1</th>\n",
              "      <td>Good hotel, not close to the sites of interest...</td>\n",
              "      <td>[Good, hotel, ,, not, close, to, the, sites, o...</td>\n",
              "      <td>8</td>\n",
              "    </tr>\n",
              "    <tr>\n",
              "      <th>2</th>\n",
              "      <td>Nice budget hotel for your stay in Paris..</td>\n",
              "      <td>[Nice, budget, hotel, for, your, stay, in, Par...</td>\n",
              "      <td>8</td>\n",
              "    </tr>\n",
              "    <tr>\n",
              "      <th>3</th>\n",
              "      <td>I was in Paris from 8 to 13 August at this fac...</td>\n",
              "      <td>[I, was, in, Paris, from, 8, to, 13, August, a...</td>\n",
              "      <td>8</td>\n",
              "    </tr>\n",
              "    <tr>\n",
              "      <th>4</th>\n",
              "      <td>I stayed there for 3 nights. Besides the poor ...</td>\n",
              "      <td>[I, stayed, there, for, 3, nights, ., Besides,...</td>\n",
              "      <td>6</td>\n",
              "    </tr>\n",
              "    <tr>\n",
              "      <th>5</th>\n",
              "      <td>Attention half mouth. Very expensive room. Tin...</td>\n",
              "      <td>[Attention, half, mouth, ., Very, expensive, r...</td>\n",
              "      <td>6</td>\n",
              "    </tr>\n",
              "  </tbody>\n",
              "</table>\n",
              "</div>"
            ],
            "text/plain": [
              "                                          ReviewText  ... Labels\n",
              "1  Good hotel, not close to the sites of interest...  ...      8\n",
              "2         Nice budget hotel for your stay in Paris..  ...      8\n",
              "3  I was in Paris from 8 to 13 August at this fac...  ...      8\n",
              "4  I stayed there for 3 nights. Besides the poor ...  ...      6\n",
              "5  Attention half mouth. Very expensive room. Tin...  ...      6\n",
              "\n",
              "[5 rows x 3 columns]"
            ]
          },
          "metadata": {
            "tags": []
          },
          "execution_count": 65
        }
      ]
    },
    {
      "cell_type": "code",
      "metadata": {
        "id": "psce4tGxHOr2"
      },
      "source": [
        "good = []\n",
        "not_bad = []\n",
        "can_improve = []\n",
        "for l in dummy_df.Labels:\n",
        "    if l == 8:\n",
        "        good.append(1)\n",
        "        not_bad.append(0)\n",
        "        can_improve.append(0)\n",
        "    elif l == 6:\n",
        "        good.append(0)\n",
        "        not_bad.append(1)\n",
        "        can_improve.append(0)\n",
        "    else:\n",
        "        good.append(0)\n",
        "        not_bad.append(0)\n",
        "        can_improve.append(1)\n",
        "\n",
        "dummy_df['Good']= good\n",
        "dummy_df['Not_Bad']= not_bad\n",
        "dummy_df['can_improve']= can_improve"
      ],
      "execution_count": 67,
      "outputs": []
    },
    {
      "cell_type": "code",
      "metadata": {
        "colab": {
          "base_uri": "https://localhost:8080/",
          "height": 204
        },
        "id": "bbeE7h2qHOuV",
        "outputId": "ac6135d6-f2c5-4a43-b6e5-e7abac605844"
      },
      "source": [
        "dummy_df.head()"
      ],
      "execution_count": 68,
      "outputs": [
        {
          "output_type": "execute_result",
          "data": {
            "text/html": [
              "<div>\n",
              "<style scoped>\n",
              "    .dataframe tbody tr th:only-of-type {\n",
              "        vertical-align: middle;\n",
              "    }\n",
              "\n",
              "    .dataframe tbody tr th {\n",
              "        vertical-align: top;\n",
              "    }\n",
              "\n",
              "    .dataframe thead th {\n",
              "        text-align: right;\n",
              "    }\n",
              "</style>\n",
              "<table border=\"1\" class=\"dataframe\">\n",
              "  <thead>\n",
              "    <tr style=\"text-align: right;\">\n",
              "      <th></th>\n",
              "      <th>ReviewText</th>\n",
              "      <th>tokenized_sents</th>\n",
              "      <th>Labels</th>\n",
              "      <th>Good</th>\n",
              "      <th>Not_Bad</th>\n",
              "      <th>can_improve</th>\n",
              "    </tr>\n",
              "  </thead>\n",
              "  <tbody>\n",
              "    <tr>\n",
              "      <th>1</th>\n",
              "      <td>Good hotel, not close to the sites of interest...</td>\n",
              "      <td>[Good, hotel, ,, not, close, to, the, sites, o...</td>\n",
              "      <td>8</td>\n",
              "      <td>1</td>\n",
              "      <td>0</td>\n",
              "      <td>0</td>\n",
              "    </tr>\n",
              "    <tr>\n",
              "      <th>2</th>\n",
              "      <td>Nice budget hotel for your stay in Paris..</td>\n",
              "      <td>[Nice, budget, hotel, for, your, stay, in, Par...</td>\n",
              "      <td>8</td>\n",
              "      <td>1</td>\n",
              "      <td>0</td>\n",
              "      <td>0</td>\n",
              "    </tr>\n",
              "    <tr>\n",
              "      <th>3</th>\n",
              "      <td>I was in Paris from 8 to 13 August at this fac...</td>\n",
              "      <td>[I, was, in, Paris, from, 8, to, 13, August, a...</td>\n",
              "      <td>8</td>\n",
              "      <td>1</td>\n",
              "      <td>0</td>\n",
              "      <td>0</td>\n",
              "    </tr>\n",
              "    <tr>\n",
              "      <th>4</th>\n",
              "      <td>I stayed there for 3 nights. Besides the poor ...</td>\n",
              "      <td>[I, stayed, there, for, 3, nights, ., Besides,...</td>\n",
              "      <td>6</td>\n",
              "      <td>0</td>\n",
              "      <td>1</td>\n",
              "      <td>0</td>\n",
              "    </tr>\n",
              "    <tr>\n",
              "      <th>5</th>\n",
              "      <td>Attention half mouth. Very expensive room. Tin...</td>\n",
              "      <td>[Attention, half, mouth, ., Very, expensive, r...</td>\n",
              "      <td>6</td>\n",
              "      <td>0</td>\n",
              "      <td>1</td>\n",
              "      <td>0</td>\n",
              "    </tr>\n",
              "  </tbody>\n",
              "</table>\n",
              "</div>"
            ],
            "text/plain": [
              "                                          ReviewText  ... can_improve\n",
              "1  Good hotel, not close to the sites of interest...  ...           0\n",
              "2         Nice budget hotel for your stay in Paris..  ...           0\n",
              "3  I was in Paris from 8 to 13 August at this fac...  ...           0\n",
              "4  I stayed there for 3 nights. Besides the poor ...  ...           0\n",
              "5  Attention half mouth. Very expensive room. Tin...  ...           0\n",
              "\n",
              "[5 rows x 6 columns]"
            ]
          },
          "metadata": {
            "tags": []
          },
          "execution_count": 68
        }
      ]
    },
    {
      "cell_type": "code",
      "metadata": {
        "id": "aDAAhwcuHO0W"
      },
      "source": [
        "# train, test = train_test_split(dummy_df, test_size=0.4, random_state = 45)\n",
        "train = dummy_df\n",
        "test = dummy_df"
      ],
      "execution_count": 162,
      "outputs": []
    },
    {
      "cell_type": "code",
      "metadata": {
        "colab": {
          "base_uri": "https://localhost:8080/"
        },
        "id": "afNiV7YRA5uU",
        "outputId": "3b6ea156-9332-4291-f52f-39aebee569d4"
      },
      "source": [
        "print(train.shape)\n",
        "print(test.shape)"
      ],
      "execution_count": 163,
      "outputs": [
        {
          "output_type": "stream",
          "text": [
            "(1470, 6)\n",
            "(1470, 6)\n"
          ],
          "name": "stdout"
        }
      ]
    },
    {
      "cell_type": "code",
      "metadata": {
        "colab": {
          "base_uri": "https://localhost:8080/"
        },
        "id": "en8gW1zq_3KO",
        "outputId": "e25f22e5-2ec8-4faf-d959-3bbd567ba535"
      },
      "source": [
        "all_training_words = [word for tokens in train[\"tokenized_sents\"] for word in tokens]\n",
        "training_sentence_lengths = [len(tokens) for tokens in train[\"tokenized_sents\"]]\n",
        "TRAINING_VOCAB = sorted(list(set(all_training_words)))\n",
        "print(\"%s words total, with a vocabulary size of %s\" % (len(all_training_words), len(TRAINING_VOCAB)))\n",
        "print(\"Max sentence length is %s\" % max(training_sentence_lengths))"
      ],
      "execution_count": 105,
      "outputs": [
        {
          "output_type": "stream",
          "text": [
            "80227 words total, with a vocabulary size of 6216\n",
            "Max sentence length is 772\n"
          ],
          "name": "stdout"
        }
      ]
    },
    {
      "cell_type": "code",
      "metadata": {
        "colab": {
          "base_uri": "https://localhost:8080/"
        },
        "id": "FDLy9yfSBO3h",
        "outputId": "fbb64631-0151-4c83-c9a6-202070125b9c"
      },
      "source": [
        "all_training_words = [word for tokens in test[\"tokenized_sents\"] for word in tokens]\n",
        "training_sentence_lengths = [len(tokens) for tokens in test[\"tokenized_sents\"]]\n",
        "TRAINING_VOCAB = sorted(list(set(all_training_words)))\n",
        "print(\"%s words total, with a vocabulary size of %s\" % (len(all_training_words), len(TRAINING_VOCAB)))\n",
        "print(\"Max sentence length is %s\" % max(training_sentence_lengths))"
      ],
      "execution_count": 106,
      "outputs": [
        {
          "output_type": "stream",
          "text": [
            "35903 words total, with a vocabulary size of 3847\n",
            "Max sentence length is 842\n"
          ],
          "name": "stdout"
        }
      ]
    },
    {
      "cell_type": "code",
      "metadata": {
        "colab": {
          "base_uri": "https://localhost:8080/"
        },
        "id": "DPrSvkZqNYtL",
        "outputId": "4e1dcf1c-36be-49a8-8a82-334a04d14552"
      },
      "source": [
        "!wget -P /root/input/ -c \"https://s3.amazonaws.com/dl4j-distribution/GoogleNews-vectors-negative300.bin.gz\""
      ],
      "execution_count": 73,
      "outputs": [
        {
          "output_type": "stream",
          "text": [
            "--2021-07-04 15:49:44--  https://s3.amazonaws.com/dl4j-distribution/GoogleNews-vectors-negative300.bin.gz\n",
            "Resolving s3.amazonaws.com (s3.amazonaws.com)... 52.216.90.70\n",
            "Connecting to s3.amazonaws.com (s3.amazonaws.com)|52.216.90.70|:443... connected.\n",
            "HTTP request sent, awaiting response... 200 OK\n",
            "Length: 1647046227 (1.5G) [application/x-gzip]\n",
            "Saving to: ‘/root/input/GoogleNews-vectors-negative300.bin.gz’\n",
            "\n",
            "GoogleNews-vectors- 100%[===================>]   1.53G  16.0MB/s    in 1m 41s  \n",
            "\n",
            "2021-07-04 15:51:25 (15.6 MB/s) - ‘/root/input/GoogleNews-vectors-negative300.bin.gz’ saved [1647046227/1647046227]\n",
            "\n"
          ],
          "name": "stdout"
        }
      ]
    },
    {
      "cell_type": "code",
      "metadata": {
        "id": "MjJq_J1kNZrU"
      },
      "source": [
        "import gensim\n",
        "\n",
        "word2vec_path = '/root/input/GoogleNews-vectors-negative300.bin.gz'\n",
        "word2vec = gensim.models.KeyedVectors.load_word2vec_format(word2vec_path, binary=True)"
      ],
      "execution_count": 74,
      "outputs": []
    },
    {
      "cell_type": "code",
      "metadata": {
        "id": "2RgVflquNZto"
      },
      "source": [
        "def get_average_word2vec(tokens_list, vector, generate_missing=False, k=300):\n",
        "    if len(tokens_list)<1:\n",
        "        return np.zeros(k)\n",
        "    if generate_missing:\n",
        "        vectorized = [vector[word] if word in vector else np.random.rand(k) for word in tokens_list]\n",
        "    else:\n",
        "        vectorized = [vector[word] if word in vector else np.zeros(k) for word in tokens_list]\n",
        "    length = len(vectorized)\n",
        "    summed = np.sum(vectorized, axis=0)\n",
        "    averaged = np.divide(summed, length)\n",
        "    return averaged\n",
        "\n",
        "def get_word2vec_embeddings(vectors, clean_comments, generate_missing=False):\n",
        "    embeddings = clean_comments['tokenized_sents'].apply(lambda x: get_average_word2vec(x, vectors, \n",
        "                                                                                generate_missing=generate_missing))\n",
        "    return list(embeddings)"
      ],
      "execution_count": 75,
      "outputs": []
    },
    {
      "cell_type": "code",
      "metadata": {
        "id": "JSTRWdnzNZvl"
      },
      "source": [
        "training_embeddings = get_word2vec_embeddings(word2vec, train, generate_missing=True)"
      ],
      "execution_count": 164,
      "outputs": []
    },
    {
      "cell_type": "code",
      "metadata": {
        "id": "mfPJdlQxNZxO"
      },
      "source": [
        "MAX_SEQUENCE_LENGTH = 50\n",
        "EMBEDDING_DIM = 300"
      ],
      "execution_count": 165,
      "outputs": []
    },
    {
      "cell_type": "code",
      "metadata": {
        "colab": {
          "base_uri": "https://localhost:8080/"
        },
        "id": "vPGOfjJXP1Tn",
        "outputId": "45560026-42f6-4ca6-8788-a81460f36722"
      },
      "source": [
        "tokenizer = Tokenizer(num_words=len(TRAINING_VOCAB), lower=True, char_level=False)\n",
        "tokenizer.fit_on_texts(train[\"ReviewText\"].tolist())\n",
        "training_sequences = tokenizer.texts_to_sequences(train[\"ReviewText\"].tolist())\n",
        "\n",
        "train_word_index = tokenizer.word_index\n",
        "print('Found %s unique tokens.' % len(train_word_index))"
      ],
      "execution_count": 166,
      "outputs": [
        {
          "output_type": "stream",
          "text": [
            "Found 6183 unique tokens.\n"
          ],
          "name": "stdout"
        }
      ]
    },
    {
      "cell_type": "code",
      "metadata": {
        "id": "u_NdTNoENZ0H"
      },
      "source": [
        "train_cnn_data = pad_sequences(training_sequences, maxlen=MAX_SEQUENCE_LENGTH)"
      ],
      "execution_count": 167,
      "outputs": []
    },
    {
      "cell_type": "code",
      "metadata": {
        "colab": {
          "base_uri": "https://localhost:8080/"
        },
        "id": "cTLiaZA7NZ1e",
        "outputId": "8568cc9d-5219-4648-d39a-ecf984acf1cc"
      },
      "source": [
        "train_embedding_weights = np.zeros((len(train_word_index)+1, EMBEDDING_DIM))\n",
        "for word,index in train_word_index.items():\n",
        "    train_embedding_weights[index,:] = word2vec[word] if word in word2vec else np.random.rand(EMBEDDING_DIM)\n",
        "print(train_embedding_weights.shape)"
      ],
      "execution_count": 168,
      "outputs": [
        {
          "output_type": "stream",
          "text": [
            "(6184, 300)\n"
          ],
          "name": "stdout"
        }
      ]
    },
    {
      "cell_type": "code",
      "metadata": {
        "id": "Fxy3QMlANZ28"
      },
      "source": [
        "test_sequences = tokenizer.texts_to_sequences(test[\"ReviewText\"].tolist())\n",
        "test_cnn_data = pad_sequences(test_sequences, maxlen=MAX_SEQUENCE_LENGTH)"
      ],
      "execution_count": 169,
      "outputs": []
    },
    {
      "cell_type": "code",
      "metadata": {
        "id": "fejqYN20Qhqf"
      },
      "source": [
        "def ConvNet(embeddings, max_sequence_length, num_words, embedding_dim, labels_index):\n",
        "    \n",
        "    embedding_layer = Embedding(num_words,\n",
        "                            embedding_dim,\n",
        "                            weights=[embeddings],\n",
        "                            input_length=max_sequence_length,\n",
        "                            trainable=False)\n",
        "    \n",
        "    sequence_input = Input(shape=(max_sequence_length,), dtype='int32')\n",
        "    embedded_sequences = embedding_layer(sequence_input)\n",
        "\n",
        "    convs = []\n",
        "    filter_sizes = [2,3,4,5,6]\n",
        "\n",
        "    for filter_size in filter_sizes:\n",
        "        l_conv = Conv1D(filters=200, kernel_size=filter_size, activation='relu')(embedded_sequences)\n",
        "        l_pool = GlobalMaxPooling1D()(l_conv)\n",
        "        convs.append(l_pool)\n",
        "\n",
        "\n",
        "    l_merge = concatenate(convs, axis=1)\n",
        "\n",
        "    x = Dropout(0.1)(l_merge)  \n",
        "    x = Dense(128, activation='relu')(x)\n",
        "    x = Dropout(0.2)(x)\n",
        "    preds = Dense(labels_index, activation='sigmoid')(x)\n",
        "\n",
        "    model = Model(sequence_input, preds)\n",
        "    model.compile(loss='binary_crossentropy',\n",
        "                  optimizer='adam',\n",
        "                  metrics=['acc'])\n",
        "    model.summary()\n",
        "    return model"
      ],
      "execution_count": 170,
      "outputs": []
    },
    {
      "cell_type": "code",
      "metadata": {
        "id": "hdnKTZAmQmHW"
      },
      "source": [
        "x_train = train_cnn_data\n",
        "label_names = ['Good', 'Not_Bad', 'can_improve']\n",
        "y_train = dummy_df[label_names].values"
      ],
      "execution_count": 171,
      "outputs": []
    },
    {
      "cell_type": "code",
      "metadata": {
        "colab": {
          "base_uri": "https://localhost:8080/"
        },
        "id": "1WA49GjTQnAq",
        "outputId": "563f9ef5-1b97-457f-edb1-e120bccb9c01"
      },
      "source": [
        "model = ConvNet(train_embedding_weights, MAX_SEQUENCE_LENGTH, len(train_word_index)+1, EMBEDDING_DIM, \n",
        "                len(list(label_names)))"
      ],
      "execution_count": 172,
      "outputs": [
        {
          "output_type": "stream",
          "text": [
            "Model: \"model_4\"\n",
            "__________________________________________________________________________________________________\n",
            "Layer (type)                    Output Shape         Param #     Connected to                     \n",
            "==================================================================================================\n",
            "input_6 (InputLayer)            [(None, 50)]         0                                            \n",
            "__________________________________________________________________________________________________\n",
            "embedding_5 (Embedding)         (None, 50, 300)      1855200     input_6[0][0]                    \n",
            "__________________________________________________________________________________________________\n",
            "conv1d_25 (Conv1D)              (None, 49, 200)      120200      embedding_5[0][0]                \n",
            "__________________________________________________________________________________________________\n",
            "conv1d_26 (Conv1D)              (None, 48, 200)      180200      embedding_5[0][0]                \n",
            "__________________________________________________________________________________________________\n",
            "conv1d_27 (Conv1D)              (None, 47, 200)      240200      embedding_5[0][0]                \n",
            "__________________________________________________________________________________________________\n",
            "conv1d_28 (Conv1D)              (None, 46, 200)      300200      embedding_5[0][0]                \n",
            "__________________________________________________________________________________________________\n",
            "conv1d_29 (Conv1D)              (None, 45, 200)      360200      embedding_5[0][0]                \n",
            "__________________________________________________________________________________________________\n",
            "global_max_pooling1d_25 (Global (None, 200)          0           conv1d_25[0][0]                  \n",
            "__________________________________________________________________________________________________\n",
            "global_max_pooling1d_26 (Global (None, 200)          0           conv1d_26[0][0]                  \n",
            "__________________________________________________________________________________________________\n",
            "global_max_pooling1d_27 (Global (None, 200)          0           conv1d_27[0][0]                  \n",
            "__________________________________________________________________________________________________\n",
            "global_max_pooling1d_28 (Global (None, 200)          0           conv1d_28[0][0]                  \n",
            "__________________________________________________________________________________________________\n",
            "global_max_pooling1d_29 (Global (None, 200)          0           conv1d_29[0][0]                  \n",
            "__________________________________________________________________________________________________\n",
            "concatenate_5 (Concatenate)     (None, 1000)         0           global_max_pooling1d_25[0][0]    \n",
            "                                                                 global_max_pooling1d_26[0][0]    \n",
            "                                                                 global_max_pooling1d_27[0][0]    \n",
            "                                                                 global_max_pooling1d_28[0][0]    \n",
            "                                                                 global_max_pooling1d_29[0][0]    \n",
            "__________________________________________________________________________________________________\n",
            "dropout_10 (Dropout)            (None, 1000)         0           concatenate_5[0][0]              \n",
            "__________________________________________________________________________________________________\n",
            "dense_10 (Dense)                (None, 128)          128128      dropout_10[0][0]                 \n",
            "__________________________________________________________________________________________________\n",
            "dropout_11 (Dropout)            (None, 128)          0           dense_10[0][0]                   \n",
            "__________________________________________________________________________________________________\n",
            "dense_11 (Dense)                (None, 3)            387         dropout_11[0][0]                 \n",
            "==================================================================================================\n",
            "Total params: 3,184,715\n",
            "Trainable params: 1,329,515\n",
            "Non-trainable params: 1,855,200\n",
            "__________________________________________________________________________________________________\n"
          ],
          "name": "stdout"
        }
      ]
    },
    {
      "cell_type": "code",
      "metadata": {
        "id": "d6BAGb9BQnDK"
      },
      "source": [
        "num_epochs = 5\n",
        "batch_size = 32"
      ],
      "execution_count": 173,
      "outputs": []
    },
    {
      "cell_type": "code",
      "metadata": {
        "colab": {
          "base_uri": "https://localhost:8080/"
        },
        "id": "6-iKCR4ZRM8g",
        "outputId": "18408907-3382-42db-964f-b381eed28243"
      },
      "source": [
        "hist = model.fit(x_train, y_train, epochs=num_epochs, validation_split=0.1, shuffle=True, batch_size=batch_size)"
      ],
      "execution_count": 174,
      "outputs": [
        {
          "output_type": "stream",
          "text": [
            "Epoch 1/5\n",
            "42/42 [==============================] - 8s 164ms/step - loss: 0.5492 - acc: 0.6820 - val_loss: 0.3304 - val_acc: 0.8163\n",
            "Epoch 2/5\n",
            "42/42 [==============================] - 6s 152ms/step - loss: 0.3632 - acc: 0.7577 - val_loss: 0.3143 - val_acc: 0.8231\n",
            "Epoch 3/5\n",
            "42/42 [==============================] - 6s 153ms/step - loss: 0.3041 - acc: 0.7924 - val_loss: 0.2924 - val_acc: 0.8367\n",
            "Epoch 4/5\n",
            "42/42 [==============================] - 6s 151ms/step - loss: 0.2352 - acc: 0.8498 - val_loss: 0.2794 - val_acc: 0.8503\n",
            "Epoch 5/5\n",
            "42/42 [==============================] - 6s 152ms/step - loss: 0.1884 - acc: 0.8889 - val_loss: 0.2602 - val_acc: 0.8027\n"
          ],
          "name": "stdout"
        }
      ]
    },
    {
      "cell_type": "code",
      "metadata": {
        "colab": {
          "base_uri": "https://localhost:8080/",
          "height": 573
        },
        "id": "EgOQnAATRNT3",
        "outputId": "a2ffdeda-4153-46b6-cdff-41640e4d8079"
      },
      "source": [
        "# summarize history for accuracy\n",
        "plt.plot(hist.history['acc'])\n",
        "plt.plot(hist.history['val_acc'])\n",
        "plt.title('model accuracy')\n",
        "plt.ylabel('accuracy')\n",
        "plt.xlabel('epoch')\n",
        "plt.legend(['train', 'test'], loc='upper left')\n",
        "plt.show()\n",
        "# summarize history for loss\n",
        "plt.plot(hist.history['loss'])\n",
        "plt.plot(hist.history['val_loss'])\n",
        "plt.title('model loss')\n",
        "plt.ylabel('loss')\n",
        "plt.xlabel('epoch')\n",
        "plt.legend(['train', 'test'], loc='upper left')\n",
        "plt.show()"
      ],
      "execution_count": 175,
      "outputs": [
        {
          "output_type": "display_data",
          "data": {
            "image/png": "[encoded data removed]",
            "text/plain": [
              "<Figure size 432x288 with 1 Axes>"
            ]
          },
          "metadata": {
            "tags": [],
            "needs_background": "light"
          }
        },
        {
          "output_type": "display_data",
          "data": {
            "image/png": "[encoded data removed]",
            "text/plain": [
              "<Figure size 432x288 with 1 Axes>"
            ]
          },
          "metadata": {
            "tags": [],
            "needs_background": "light"
          }
        }
      ]
    },
    {
      "cell_type": "code",
      "metadata": {
        "colab": {
          "base_uri": "https://localhost:8080/"
        },
        "id": "fQ_1PCK9RNWE",
        "outputId": "2cc54225-801f-42ff-8092-4bb9710d45fd"
      },
      "source": [
        "predictions = model.predict(test_cnn_data, batch_size=1024, verbose=1)"
      ],
      "execution_count": 176,
      "outputs": [
        {
          "output_type": "stream",
          "text": [
            "WARNING:tensorflow:5 out of the last 5 calls to <function Model.make_predict_function.<locals>.predict_function at 0x7f2fa2148680> triggered tf.function retracing. Tracing is expensive and the excessive number of tracings could be due to (1) creating @tf.function repeatedly in a loop, (2) passing tensors with different shapes, (3) passing Python objects instead of tensors. For (1), please define your @tf.function outside of the loop. For (2), @tf.function has experimental_relax_shapes=True option that relaxes argument shapes that can avoid unnecessary retracing. For (3), please refer to https://www.tensorflow.org/guide/function#controlling_retracing and https://www.tensorflow.org/api_docs/python/tf/function for  more details.\n",
            "2/2 [==============================] - 3s 746ms/step\n"
          ],
          "name": "stdout"
        }
      ]
    },
    {
      "cell_type": "code",
      "metadata": {
        "colab": {
          "base_uri": "https://localhost:8080/"
        },
        "id": "dO3vdFJxR275",
        "outputId": "dfd15ed3-d7b8-4600-81a1-fc3e11571942"
      },
      "source": [
        "type(predictions)"
      ],
      "execution_count": 184,
      "outputs": [
        {
          "output_type": "execute_result",
          "data": {
            "text/plain": [
              "numpy.ndarray"
            ]
          },
          "metadata": {
            "tags": []
          },
          "execution_count": 184
        }
      ]
    },
    {
      "cell_type": "code",
      "metadata": {
        "colab": {
          "base_uri": "https://localhost:8080/"
        },
        "id": "hOWyeXWZSK6P",
        "outputId": "679172c5-a403-491f-e0c2-b8600eafa11f"
      },
      "source": [
        "predictions.shape"
      ],
      "execution_count": 187,
      "outputs": [
        {
          "output_type": "execute_result",
          "data": {
            "text/plain": [
              "(1470, 3)"
            ]
          },
          "metadata": {
            "tags": []
          },
          "execution_count": 187
        }
      ]
    },
    {
      "cell_type": "code",
      "metadata": {
        "id": "g_zhYvaAYWtb"
      },
      "source": [
        ""
      ],
      "execution_count": null,
      "outputs": []
    },
    {
      "cell_type": "code",
      "metadata": {
        "id": "VMX3-YHMYc_R"
      },
      "source": [
        ""
      ],
      "execution_count": null,
      "outputs": []
    },
    {
      "cell_type": "code",
      "metadata": {
        "id": "ynSuX7VHZN0N"
      },
      "source": [
        ""
      ],
      "execution_count": null,
      "outputs": []
    }
  ]
}
